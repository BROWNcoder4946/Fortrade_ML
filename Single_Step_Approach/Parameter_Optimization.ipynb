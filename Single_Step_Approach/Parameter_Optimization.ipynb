{
 "cells": [
  {
   "cell_type": "markdown",
   "metadata": {},
   "source": [
    "# Optimizing the parameters and hyperparameters of our LSTM model"
   ]
  },
  {
   "cell_type": "code",
   "execution_count": 41,
   "metadata": {},
   "outputs": [],
   "source": [
    "import numpy as np\n",
    "import pandas as pd\n",
    "from sklearn.preprocessing import MinMaxScaler\n",
    "from sklearn.model_selection import train_test_split\n",
    "from tensorflow.keras.models import Sequential\n",
    "from tensorflow.keras.layers import LSTM, Dense, Dropout\n",
    "from tensorflow.keras.optimizers.legacy import Adam\n",
    "from sklearn.metrics import mean_squared_error\n",
    "import random"
   ]
  },
  {
   "cell_type": "markdown",
   "metadata": {},
   "source": [
    "# Preprocessing the data"
   ]
  },
  {
   "cell_type": "code",
   "execution_count": 42,
   "metadata": {},
   "outputs": [],
   "source": [
    "# Load the data\n",
    "data = pd.read_csv('EURUSD_data')\n",
    "\n",
    "# Select features and target\n",
    "features = data[['Open', 'High', 'Low', 'Close', 'Adj Close']]\n",
    "target = data['Close']\n",
    "\n",
    "# Scale the data\n",
    "scaler = MinMaxScaler(feature_range=(0, 1))\n",
    "scaled_data = scaler.fit_transform(features)\n",
    "\n",
    "# Create sequences of data for LSTM\n",
    "def create_sequences(data, seq_length):\n",
    "    X, y = [], []\n",
    "    for i in range(len(data) - seq_length):\n",
    "        X.append(data[i:i+seq_length])\n",
    "        y.append(data[i+seq_length, 3])  # Use the 'Close' price as target\n",
    "    return np.array(X), np.array(y)\n",
    "\n",
    "seq_length = 60  # Using 60 days of data to predict the next day's price\n",
    "X, y = create_sequences(scaled_data, seq_length)\n",
    "\n",
    "# Split the data into training and testing sets\n",
    "X_train, X_test, y_train, y_test = train_test_split(X, y, test_size=0.2, shuffle=False)"
   ]
  },
  {
   "cell_type": "markdown",
   "metadata": {},
   "source": [
    "# Defining our LSTM with variable parameters"
   ]
  },
  {
   "cell_type": "code",
   "execution_count": 43,
   "metadata": {},
   "outputs": [],
   "source": [
    "# Function to create and compile LSTM model\n",
    "def create_lstm_model(units, dropout_rate, learning_rate):\n",
    "    model = Sequential()\n",
    "    model.add(LSTM(units=units, return_sequences=True, input_shape=(X_train.shape[1], X_train.shape[2])))\n",
    "    model.add(Dropout(dropout_rate))\n",
    "    model.add(LSTM(units=units//2, return_sequences=False))\n",
    "    model.add(Dropout(dropout_rate))\n",
    "    model.add(Dense(units=1))\n",
    "    \n",
    "    optimizer = Adam(learning_rate=learning_rate)\n",
    "    model.compile(optimizer=optimizer, loss='mean_squared_error')\n",
    "    \n",
    "    return model"
   ]
  },
  {
   "cell_type": "markdown",
   "metadata": {},
   "source": [
    "# Defining function to randomly select paramters"
   ]
  },
  {
   "cell_type": "code",
   "execution_count": 44,
   "metadata": {},
   "outputs": [],
   "source": [
    "# Random Search for hyperparameter tuning\n",
    "def random_search(X_train, y_train, X_test, y_test, param_dist, n_iter=10):\n",
    "    best_model = None\n",
    "    best_mse = float('inf')\n",
    "    best_params = None\n",
    "    \n",
    "    for i in range(n_iter):\n",
    "        # Randomly select hyperparameters\n",
    "        units = random.choice(param_dist['units'])\n",
    "        dropout_rate = random.choice(param_dist['dropout_rate'])\n",
    "        learning_rate = random.choice(param_dist['learning_rate'])\n",
    "        batch_size = random.choice(param_dist['batch_size'])\n",
    "        epochs = random.choice(param_dist['epochs'])\n",
    "        \n",
    "        print(f\"Model {i+1}: units={units}, dropout_rate={dropout_rate}, learning_rate={learning_rate}, batch_size={batch_size}, epochs={epochs}\")\n",
    "        \n",
    "        # Create and train the model\n",
    "        model = create_lstm_model(units, dropout_rate, learning_rate)\n",
    "        model.fit(X_train, y_train, epochs=epochs, batch_size=batch_size, validation_data=(X_test, y_test), verbose=0)\n",
    "        \n",
    "        # Evaluate the model\n",
    "        predictions = model.predict(X_test)\n",
    "        mse = mean_squared_error(y_test, predictions)\n",
    "        print(f\"Model {i+1} MSE: {mse}\")\n",
    "        \n",
    "        # Check if this model is the best so far\n",
    "        if mse < best_mse:\n",
    "            best_mse = mse\n",
    "            best_model = model\n",
    "            best_params = {'units': units, 'dropout_rate': dropout_rate, 'learning_rate': learning_rate, 'batch_size': batch_size, 'epochs': epochs}\n",
    "    \n",
    "    return best_model, best_params, best_mse"
   ]
  },
  {
   "cell_type": "markdown",
   "metadata": {},
   "source": [
    "# Defining the domain of parameters"
   ]
  },
  {
   "cell_type": "code",
   "execution_count": 45,
   "metadata": {},
   "outputs": [],
   "source": [
    "# Define the parameter distributions\n",
    "param_dist = {\n",
    "    'units': [75, 100, 125],\n",
    "    'dropout_rate': [0.1, 0.2, 0.3],\n",
    "    'learning_rate': [0.001, 0.005, 0.01],\n",
    "    'batch_size': [16, 32, 64],\n",
    "    'epochs': [80]\n",
    "}"
   ]
  },
  {
   "cell_type": "markdown",
   "metadata": {},
   "source": [
    "# Performing the search"
   ]
  },
  {
   "cell_type": "code",
   "execution_count": 46,
   "metadata": {},
   "outputs": [
    {
     "name": "stdout",
     "output_type": "stream",
     "text": [
      "Model 1: units=100, dropout_rate=0.2, learning_rate=0.005, batch_size=32, epochs=80\n",
      "16/16 [==============================] - 1s 9ms/step\n",
      "Model 1 MSE: 0.0002650981446509463\n",
      "Model 2: units=100, dropout_rate=0.1, learning_rate=0.005, batch_size=16, epochs=80\n",
      "16/16 [==============================] - 1s 9ms/step\n",
      "Model 2 MSE: 8.484297766234736e-05\n",
      "Model 3: units=100, dropout_rate=0.1, learning_rate=0.005, batch_size=32, epochs=80\n",
      "16/16 [==============================] - 1s 9ms/step\n",
      "Model 3 MSE: 0.0003616536749957337\n",
      "Model 4: units=100, dropout_rate=0.3, learning_rate=0.005, batch_size=32, epochs=80\n",
      "16/16 [==============================] - 1s 8ms/step\n",
      "Model 4 MSE: 0.00013983103512066827\n",
      "Model 5: units=75, dropout_rate=0.2, learning_rate=0.01, batch_size=64, epochs=80\n",
      "16/16 [==============================] - 1s 6ms/step\n",
      "Model 5 MSE: 0.0001315812050638234\n",
      "Model 6: units=125, dropout_rate=0.1, learning_rate=0.01, batch_size=16, epochs=80\n",
      "16/16 [==============================] - 1s 13ms/step\n",
      "Model 6 MSE: 0.0006157558860279497\n",
      "Model 7: units=75, dropout_rate=0.3, learning_rate=0.01, batch_size=64, epochs=80\n",
      "16/16 [==============================] - 1s 6ms/step\n",
      "Model 7 MSE: 0.00020802033347363218\n",
      "Model 8: units=75, dropout_rate=0.1, learning_rate=0.01, batch_size=32, epochs=80\n",
      "16/16 [==============================] - 1s 7ms/step\n",
      "Model 8 MSE: 0.00014631762389858013\n",
      "Model 9: units=100, dropout_rate=0.1, learning_rate=0.01, batch_size=64, epochs=80\n",
      "16/16 [==============================] - 1s 9ms/step\n",
      "Model 9 MSE: 0.00020217425448344656\n",
      "Model 10: units=125, dropout_rate=0.1, learning_rate=0.005, batch_size=64, epochs=80\n",
      "16/16 [==============================] - 1s 12ms/step\n",
      "Model 10 MSE: 0.00016663991264130511\n",
      "Model 11: units=75, dropout_rate=0.1, learning_rate=0.01, batch_size=64, epochs=80\n",
      "16/16 [==============================] - 1s 6ms/step\n",
      "Model 11 MSE: 0.00013984979977754567\n",
      "Model 12: units=100, dropout_rate=0.2, learning_rate=0.005, batch_size=16, epochs=80\n",
      "16/16 [==============================] - 1s 8ms/step\n",
      "Model 12 MSE: 0.00012333205048476755\n",
      "Model 13: units=100, dropout_rate=0.1, learning_rate=0.001, batch_size=16, epochs=80\n",
      "16/16 [==============================] - 1s 8ms/step\n",
      "Model 13 MSE: 0.00011860142386395337\n",
      "Model 14: units=75, dropout_rate=0.3, learning_rate=0.01, batch_size=32, epochs=80\n",
      "16/16 [==============================] - 1s 6ms/step\n",
      "Model 14 MSE: 0.0002041442290222302\n",
      "Model 15: units=75, dropout_rate=0.2, learning_rate=0.01, batch_size=16, epochs=80\n",
      "16/16 [==============================] - 0s 6ms/step\n",
      "Model 15 MSE: 0.00019527657291351533\n",
      "Model 16: units=125, dropout_rate=0.2, learning_rate=0.005, batch_size=32, epochs=80\n",
      "16/16 [==============================] - 1s 12ms/step\n",
      "Model 16 MSE: 0.0004322224095050844\n",
      "Model 17: units=125, dropout_rate=0.1, learning_rate=0.005, batch_size=32, epochs=80\n",
      "16/16 [==============================] - 1s 12ms/step\n",
      "Model 17 MSE: 0.00020706731615321498\n",
      "Model 18: units=75, dropout_rate=0.3, learning_rate=0.005, batch_size=32, epochs=80\n",
      "16/16 [==============================] - 1s 6ms/step\n",
      "Model 18 MSE: 0.00012432365754570885\n",
      "Model 19: units=125, dropout_rate=0.1, learning_rate=0.005, batch_size=64, epochs=80\n",
      "16/16 [==============================] - 1s 11ms/step\n",
      "Model 19 MSE: 0.00015611127138299681\n",
      "Model 20: units=75, dropout_rate=0.2, learning_rate=0.001, batch_size=32, epochs=80\n",
      "16/16 [==============================] - 1s 6ms/step\n",
      "Model 20 MSE: 0.00023615328780101497\n",
      "Best Parameters: {'units': 100, 'dropout_rate': 0.1, 'learning_rate': 0.005, 'batch_size': 16, 'epochs': 80}\n",
      "Best MSE: 8.484297766234736e-05\n"
     ]
    }
   ],
   "source": [
    "# Perform Random Search\n",
    "best_model, best_params, best_mse = random_search(X_train, y_train, X_test, y_test, param_dist, n_iter=20)\n",
    "\n",
    "print(\"Best Parameters:\", best_params)\n",
    "print(\"Best MSE:\", best_mse)"
   ]
  },
  {
   "cell_type": "code",
   "execution_count": null,
   "metadata": {},
   "outputs": [],
   "source": [
    "# Save the best model\n",
    "best_model.save('best_lstm_model.h5')"
   ]
  }
 ],
 "metadata": {
  "kernelspec": {
   "display_name": "Python 3",
   "language": "python",
   "name": "python3"
  },
  "language_info": {
   "codemirror_mode": {
    "name": "ipython",
    "version": 3
   },
   "file_extension": ".py",
   "mimetype": "text/x-python",
   "name": "python",
   "nbconvert_exporter": "python",
   "pygments_lexer": "ipython3",
   "version": "3.11.4"
  }
 },
 "nbformat": 4,
 "nbformat_minor": 2
}
