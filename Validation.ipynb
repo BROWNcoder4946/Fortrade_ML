{
 "cells": [
  {
   "cell_type": "markdown",
   "metadata": {},
   "source": [
    "## This notebook asseses the performnace of our models on new/unseen data to make sure that good results aren't corresponding to overfitting :)"
   ]
  },
  {
   "cell_type": "markdown",
   "metadata": {},
   "source": [
    "# Preprocessing Validation Data"
   ]
  },
  {
   "cell_type": "code",
   "execution_count": 5,
   "metadata": {},
   "outputs": [],
   "source": [
    "import numpy as np\n",
    "import pandas as pd\n",
    "from sklearn.preprocessing import MinMaxScaler\n",
    "from sklearn.model_selection import train_test_split\n",
    "\n",
    "# Load the data\n",
    "data = pd.read_csv('Validation_data')\n",
    "\n",
    "# Select features and target\n",
    "features = data[['Open', 'High', 'Low', 'Close', 'Adj Close']]\n",
    "target = data['Close']\n",
    "\n",
    "# Scale the data\n",
    "scaler = MinMaxScaler(feature_range=(0, 1))\n",
    "scaled_data = scaler.fit_transform(features)\n",
    "\n",
    "# Create sequences of data for LSTM\n",
    "def create_sequences(data, seq_length):\n",
    "    X, y = [], []\n",
    "    for i in range(len(data) - seq_length):\n",
    "        X.append(data[i:i+seq_length])\n",
    "        y.append(data[i+seq_length, 3])  # Use the 'Close' price as target\n",
    "    return np.array(X), np.array(y)\n",
    "\n",
    "seq_length = 60  # Using 60 days of data to predict the next day's price\n",
    "X, y = create_sequences(scaled_data, seq_length)\n",
    "\n",
    "# Split the data into training and testing sets\n",
    "X_train, X_test, y_train, y_test = train_test_split(X, y, test_size=1, shuffle=False)"
   ]
  },
  {
   "cell_type": "markdown",
   "metadata": {},
   "source": [
    "# 1. LSTM"
   ]
  },
  {
   "cell_type": "code",
   "execution_count": 6,
   "metadata": {},
   "outputs": [
    {
     "name": "stdout",
     "output_type": "stream",
     "text": [
      "Model loaded successfully\n"
     ]
    }
   ],
   "source": [
    "# Load the model\n",
    "import pickle \n",
    "with open('gru.pkl', 'rb') as file:\n",
    "    LSTM_model = pickle.load(file)\n",
    "\n",
    "print(\"Model loaded successfully\")"
   ]
  },
  {
   "cell_type": "code",
   "execution_count": 7,
   "metadata": {},
   "outputs": [
    {
     "name": "stdout",
     "output_type": "stream",
     "text": [
      "1/1 [==============================] - 0s 456ms/step\n",
      "Mean Squared Error: 2.727161200172379e-05\n"
     ]
    }
   ],
   "source": [
    "# Predicting on test data\n",
    "predicted_prices = LSTM_model.predict(X_test)\n",
    "\n",
    "# Inverse transform the predicted and actual values to get them in the original scale\n",
    "predicted_prices = scaler.inverse_transform(np.concatenate([X_test[:, -1, :-1], predicted_prices], axis=1))[:, -1]\n",
    "actual_prices = scaler.inverse_transform(np.concatenate([X_test[:, -1, :-1], y_test.reshape(-1, 1)], axis=1))[:, -1]\n",
    "\n",
    "# Evaluate the model\n",
    "mse = np.mean((predicted_prices - actual_prices) ** 2)\n",
    "print(f\"Mean Squared Error: {mse}\")"
   ]
  },
  {
   "cell_type": "code",
   "execution_count": 8,
   "metadata": {},
   "outputs": [
    {
     "name": "stdout",
     "output_type": "stream",
     "text": [
      "[1.10864747]\n",
      "[1.10342524]\n"
     ]
    }
   ],
   "source": [
    "print(actual_prices)\n",
    "print(predicted_prices)"
   ]
  }
 ],
 "metadata": {
  "kernelspec": {
   "display_name": "Python 3",
   "language": "python",
   "name": "python3"
  },
  "language_info": {
   "codemirror_mode": {
    "name": "ipython",
    "version": 3
   },
   "file_extension": ".py",
   "mimetype": "text/x-python",
   "name": "python",
   "nbconvert_exporter": "python",
   "pygments_lexer": "ipython3",
   "version": "3.11.4"
  }
 },
 "nbformat": 4,
 "nbformat_minor": 2
}
